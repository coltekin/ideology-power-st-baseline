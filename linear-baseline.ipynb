{
 "cells": [
  {
   "cell_type": "markdown",
   "id": "790a8190",
   "metadata": {},
   "source": [
    "A simple baseline for the shared task on Ideology and Power Detection.\n",
    "\n",
    "See the [shared task web page](https://touche.webis.de/clef24/touche24-web/ideology-and-power-identification-in-parliamentary-debates.html)\n",
    "for details.\n"
   ]
  },
  {
   "cell_type": "code",
   "execution_count": 1,
   "id": "4e557771",
   "metadata": {},
   "outputs": [],
   "source": [
    "import argparse\n",
    "import os\n",
    "import time\n",
    "from sklearn.feature_extraction.text import TfidfVectorizer\n",
    "from sklearn.linear_model import LogisticRegression\n",
    "from sklearn.metrics import precision_recall_fscore_support\n",
    "from data import get_data"
   ]
  },
  {
   "cell_type": "code",
   "execution_count": 11,
   "id": "ea101c9d",
   "metadata": {},
   "outputs": [],
   "source": [
    "task = \"power\"\n",
    "pcode = \"ba\"\n",
    "data_dir = \"data\"\n",
    "teamname = \"baseline\""
   ]
  },
  {
   "cell_type": "code",
   "execution_count": 15,
   "id": "d27e1126",
   "metadata": {},
   "outputs": [
    {
     "name": "stdout",
     "output_type": "stream",
     "text": [
      "ba: 41.6988 / 50.0000 / 45.4737\n",
      "CPU times: user 8.19 s, sys: 52.2 ms, total: 8.24 s\n",
      "Wall time: 8.24 s\n"
     ]
    },
    {
     "name": "stderr",
     "output_type": "stream",
     "text": [
      "/usr/lib/python3/dist-packages/sklearn/metrics/_classification.py:1344: UndefinedMetricWarning: Precision and F-score are ill-defined and being set to 0.0 in labels with no predicted samples. Use `zero_division` parameter to control this behavior.\n",
      "  _warn_prf(average, modifier, msg_start, len(result))\n"
     ]
    }
   ],
   "source": [
    "%%time\n",
    "# Train a simple logistic regression classifier\n",
    "# with character n-gram features, print the evaluation\n",
    "# scores on the validation set.\n",
    "train_file = os.path.join(data_dir, task,\n",
    "                          f\"{task}-{pcode}-train.tsv\")\n",
    "if not os.path.exists(train_file):\n",
    "    print(f\"{pcode}: skipping, no training data.\")\n",
    "else:\n",
    "    t_trn, y_trn, t_val, y_val = get_data(train_file)\n",
    "    vec = TfidfVectorizer(sublinear_tf=True, analyzer=\"char\",\n",
    "                      ngram_range=(1,3))\n",
    "    x_trn = vec.fit_transform(t_trn)\n",
    "    x_val = vec.transform(t_val)\n",
    "    m = LogisticRegression()\n",
    "    m.fit(x_trn, y_trn)\n",
    "    pred = m.predict(x_val)\n",
    "    p, r, f, _ = precision_recall_fscore_support(\n",
    "        y_val, pred, average='macro')\n",
    "    print(f\"{pcode}: {100*p:.4f} / {100*r:.4f} / {100*f:.4f}\")"
   ]
  },
  {
   "cell_type": "code",
   "execution_count": 19,
   "id": "47c1728c",
   "metadata": {},
   "outputs": [],
   "source": [
    "# if test file exists, create the submission file with predictions.\n",
    "test_file = os.path.join(data_dir, task,\n",
    "                          f\"{task}-{pcode}-test.tsv\")\n",
    "if os.path.exists(test_file):\n",
    "    id_test, t_test = get_data(test_file, testset=True)\n",
    "    x_test = vec.transform(t_test)\n",
    "    test_pred = m.predict_proba(x_test)\n",
    "    pred_file = f\"{teamname}-{task}-{pcode}-predictions.tsv\"\n",
    "    with open(pred_file, \"wt\") as fpred:\n",
    "        for i, p in enumerate(test_pred):\n",
    "            print(f\"{id_test[i]}\\t{p[1]}\", file=fpred)\n"
   ]
  }
 ],
 "metadata": {
  "kernelspec": {
   "display_name": "Python 3 (ipykernel)",
   "language": "python",
   "name": "python3"
  },
  "language_info": {
   "codemirror_mode": {
    "name": "ipython",
    "version": 3
   },
   "file_extension": ".py",
   "mimetype": "text/x-python",
   "name": "python",
   "nbconvert_exporter": "python",
   "pygments_lexer": "ipython3",
   "version": "3.11.5"
  }
 },
 "nbformat": 4,
 "nbformat_minor": 5
}
